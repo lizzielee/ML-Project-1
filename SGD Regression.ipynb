{
 "cells": [
  {
   "cell_type": "code",
   "execution_count": 1,
   "metadata": {},
   "outputs": [
    {
     "data": {
      "text/html": [
       "<div>\n",
       "<style scoped>\n",
       "    .dataframe tbody tr th:only-of-type {\n",
       "        vertical-align: middle;\n",
       "    }\n",
       "\n",
       "    .dataframe tbody tr th {\n",
       "        vertical-align: top;\n",
       "    }\n",
       "\n",
       "    .dataframe thead th {\n",
       "        text-align: right;\n",
       "    }\n",
       "</style>\n",
       "<table border=\"1\" class=\"dataframe\">\n",
       "  <thead>\n",
       "    <tr style=\"text-align: right;\">\n",
       "      <th></th>\n",
       "      <th>Site_ID</th>\n",
       "      <th>Date_Collected</th>\n",
       "      <th>Lab_DO_mg/L</th>\n",
       "      <th>Lab_pH</th>\n",
       "      <th>Nitrate_PPM</th>\n",
       "      <th>Ortho_Phosphate_PPM</th>\n",
       "      <th>Split_#</th>\n",
       "      <th>Stream_T(C)</th>\n",
       "      <th>Time_Collected</th>\n",
       "      <th>Turbidity</th>\n",
       "      <th>Health_Score</th>\n",
       "    </tr>\n",
       "  </thead>\n",
       "  <tbody>\n",
       "    <tr>\n",
       "      <th>0</th>\n",
       "      <td>FC01</td>\n",
       "      <td>5/20/2016</td>\n",
       "      <td>9.324009</td>\n",
       "      <td>7.978506</td>\n",
       "      <td>0.877</td>\n",
       "      <td>0.120927</td>\n",
       "      <td>1.0</td>\n",
       "      <td>16.4</td>\n",
       "      <td>11:49</td>\n",
       "      <td>8.05</td>\n",
       "      <td>4.814592</td>\n",
       "    </tr>\n",
       "    <tr>\n",
       "      <th>1</th>\n",
       "      <td>FC02</td>\n",
       "      <td>5/20/2016</td>\n",
       "      <td>9.324009</td>\n",
       "      <td>7.978506</td>\n",
       "      <td>2.130</td>\n",
       "      <td>0.120927</td>\n",
       "      <td>1.0</td>\n",
       "      <td>14.4</td>\n",
       "      <td>12:19</td>\n",
       "      <td>3.95</td>\n",
       "      <td>1.967592</td>\n",
       "    </tr>\n",
       "    <tr>\n",
       "      <th>2</th>\n",
       "      <td>FC03</td>\n",
       "      <td>5/20/2016</td>\n",
       "      <td>9.324009</td>\n",
       "      <td>7.978506</td>\n",
       "      <td>2.450</td>\n",
       "      <td>0.120927</td>\n",
       "      <td>1.0</td>\n",
       "      <td>17.1</td>\n",
       "      <td>12:59</td>\n",
       "      <td>16.11</td>\n",
       "      <td>14.447592</td>\n",
       "    </tr>\n",
       "    <tr>\n",
       "      <th>3</th>\n",
       "      <td>FC05</td>\n",
       "      <td>5/20/2016</td>\n",
       "      <td>9.324009</td>\n",
       "      <td>7.978506</td>\n",
       "      <td>0.892</td>\n",
       "      <td>0.120927</td>\n",
       "      <td>1.0</td>\n",
       "      <td>16.9</td>\n",
       "      <td>13:29</td>\n",
       "      <td>10.33</td>\n",
       "      <td>7.109592</td>\n",
       "    </tr>\n",
       "    <tr>\n",
       "      <th>4</th>\n",
       "      <td>FC06</td>\n",
       "      <td>5/20/2016</td>\n",
       "      <td>9.324009</td>\n",
       "      <td>7.978506</td>\n",
       "      <td>3.010</td>\n",
       "      <td>0.120927</td>\n",
       "      <td>1.0</td>\n",
       "      <td>17.0</td>\n",
       "      <td>13:43</td>\n",
       "      <td>17.14</td>\n",
       "      <td>16.037592</td>\n",
       "    </tr>\n",
       "  </tbody>\n",
       "</table>\n",
       "</div>"
      ],
      "text/plain": [
       "  Site_ID Date_Collected  Lab_DO_mg/L    Lab_pH  Nitrate_PPM  \\\n",
       "0    FC01      5/20/2016     9.324009  7.978506        0.877   \n",
       "1    FC02      5/20/2016     9.324009  7.978506        2.130   \n",
       "2    FC03      5/20/2016     9.324009  7.978506        2.450   \n",
       "3    FC05      5/20/2016     9.324009  7.978506        0.892   \n",
       "4    FC06      5/20/2016     9.324009  7.978506        3.010   \n",
       "\n",
       "   Ortho_Phosphate_PPM  Split_#  Stream_T(C) Time_Collected  Turbidity  \\\n",
       "0             0.120927      1.0         16.4          11:49       8.05   \n",
       "1             0.120927      1.0         14.4          12:19       3.95   \n",
       "2             0.120927      1.0         17.1          12:59      16.11   \n",
       "3             0.120927      1.0         16.9          13:29      10.33   \n",
       "4             0.120927      1.0         17.0          13:43      17.14   \n",
       "\n",
       "   Health_Score  \n",
       "0      4.814592  \n",
       "1      1.967592  \n",
       "2     14.447592  \n",
       "3      7.109592  \n",
       "4     16.037592  "
      ]
     },
     "execution_count": 1,
     "metadata": {},
     "output_type": "execute_result"
    }
   ],
   "source": [
    "import pandas as pd\n",
    "import numpy as np\n",
    "import os\n",
    "import matplotlib\n",
    "import matplotlib.pyplot as plt\n",
    "import random\n",
    "from sklearn import preprocessing\n",
    "\n",
    "river = pd.read_csv('wdm_cleaned_Y_1.csv', error_bad_lines=False)\n",
    "river. head()"
   ]
  },
  {
   "cell_type": "code",
   "execution_count": 2,
   "metadata": {},
   "outputs": [
    {
     "data": {
      "text/plain": [
       "Health_Score           1.000000\n",
       "Turbidity              0.987417\n",
       "Nitrate_PPM            0.201372\n",
       "Ortho_Phosphate_PPM    0.126462\n",
       "Split_#                0.004459\n",
       "Lab_DO_mg/L           -0.011185\n",
       "Lab_pH                -0.019337\n",
       "Stream_T(C)           -0.022269\n",
       "Name: Health_Score, dtype: float64"
      ]
     },
     "execution_count": 2,
     "metadata": {},
     "output_type": "execute_result"
    }
   ],
   "source": [
    "# Check corrolation\n",
    "corr_matrix = river.corr()\n",
    "corr_matrix[\"Health_Score\"].sort_values(ascending = False)"
   ]
  },
  {
   "cell_type": "code",
   "execution_count": 3,
   "metadata": {},
   "outputs": [],
   "source": [
    "# Split X and y\n",
    "from sklearn.model_selection import train_test_split\n",
    "\n",
    "X = river.drop(['Health_Score','Date_Collected','Time_Collected'], axis = 1)\n",
    "y = river[\"Health_Score\"]"
   ]
  },
  {
   "cell_type": "code",
   "execution_count": 4,
   "metadata": {},
   "outputs": [],
   "source": [
    "river_num = X.drop(\"Site_ID\", axis = 1)"
   ]
  },
  {
   "cell_type": "code",
   "execution_count": 5,
   "metadata": {},
   "outputs": [],
   "source": [
    "# Build pipeline\n",
    "from sklearn.preprocessing import LabelBinarizer\n",
    "from sklearn.pipeline import FeatureUnion\n",
    "from sklearn.base import BaseEstimator, TransformerMixin\n",
    "from sklearn.base import TransformerMixin\n",
    "from sklearn.preprocessing import LabelEncoder\n",
    "from sklearn.preprocessing import OneHotEncoder\n",
    "from sklearn.pipeline import Pipeline\n",
    "from sklearn.preprocessing import StandardScaler\n",
    "\n",
    "class MyLabelBinarizer(TransformerMixin):\n",
    "    def __init__(self, *args, **kwargs):\n",
    "        self.encoder = LabelBinarizer(*args, **kwargs)\n",
    "    def fit(self, x, y=0):\n",
    "        self.encoder.fit(x)\n",
    "        return self\n",
    "    def transform(self, x, y=0):\n",
    "        return self.encoder.transform(x)\n",
    "    \n",
    "class DataFrameSelector(BaseEstimator, TransformerMixin): \n",
    "    def __init__(self, attribute_names):\n",
    "          self.attribute_names = attribute_names \n",
    "    def fit(self, X, y=None):\n",
    "        return self\n",
    "    def transform(self, X):\n",
    "        return X[self.attribute_names].values\n",
    "\n",
    "num_attribs = list(river_num)\n",
    "cat_attribs = [\"Site_ID\"]\n",
    "\n",
    "num_pipeline = Pipeline([\n",
    "    ('selector', DataFrameSelector(num_attribs)),\n",
    "    ('std_scaler', StandardScaler()),\n",
    "])\n",
    "\n",
    "cat_pipeline = Pipeline([\n",
    "    ('selector', DataFrameSelector(cat_attribs)),\n",
    "    ('label_binarizer', MyLabelBinarizer()),\n",
    "])\n",
    "\n",
    "full_pipeline = FeatureUnion(transformer_list=[\n",
    "    (\"num_pipeline\", num_pipeline),\n",
    "    (\"cat_pipeline\", cat_pipeline),\n",
    "])"
   ]
  },
  {
   "cell_type": "code",
   "execution_count": 6,
   "metadata": {},
   "outputs": [],
   "source": [
    "# Apply pipeline\n",
    "X_f = full_pipeline.fit_transform(X)"
   ]
  },
  {
   "cell_type": "code",
   "execution_count": 7,
   "metadata": {},
   "outputs": [],
   "source": [
    "# Split train and test\n",
    "X_train, X_test, y_train, y_test = train_test_split(X_f, y, test_size = 0.2, random_state = 42)"
   ]
  },
  {
   "cell_type": "code",
   "execution_count": 8,
   "metadata": {},
   "outputs": [
    {
     "name": "stderr",
     "output_type": "stream",
     "text": [
      "/Library/Frameworks/Python.framework/Versions/3.7/lib/python3.7/site-packages/sklearn/linear_model/stochastic_gradient.py:128: FutureWarning: max_iter and tol parameters have been added in <class 'sklearn.linear_model.stochastic_gradient.SGDRegressor'> in 0.19. If both are left unset, they default to max_iter=5 and tol=None. If tol is not None, max_iter defaults to max_iter=1000. From 0.21, default max_iter will be 1000, and default tol will be 1e-3.\n",
      "  \"and default tol will be 1e-3.\" % type(self), FutureWarning)\n"
     ]
    }
   ],
   "source": [
    "# Implement SGD regression\n",
    "from sklearn.linear_model import ElasticNet\n",
    "from sklearn.linear_model import SGDRegressor\n",
    "\n",
    "lr = SGDRegressor()\n",
    "lr.fit(X_train, y_train)\n",
    "y_pred = lr.predict(X_test)"
   ]
  },
  {
   "cell_type": "code",
   "execution_count": 9,
   "metadata": {},
   "outputs": [
    {
     "name": "stdout",
     "output_type": "stream",
     "text": [
      "RMSE: 0.09355868557582094\n",
      "MAE: 0.04503149145608454\n"
     ]
    }
   ],
   "source": [
    "# Measure the prediction\n",
    "from sklearn.metrics import mean_squared_error\n",
    "from sklearn.metrics import mean_absolute_error\n",
    "\n",
    "mse_lr = mean_squared_error(y_test, y_pred)\n",
    "lr_rmse = np.sqrt(mse_lr)\n",
    "lr_mae = mean_absolute_error(y_test, y_pred)\n",
    "print(\"RMSE:\", lr_rmse)\n",
    "print(\"MAE:\", lr_mae)"
   ]
  },
  {
   "cell_type": "code",
   "execution_count": 14,
   "metadata": {},
   "outputs": [
    {
     "name": "stdout",
     "output_type": "stream",
     "text": [
      "[0.99997241 0.99998015 0.99998554 0.99999191 0.99998803]\n"
     ]
    },
    {
     "name": "stderr",
     "output_type": "stream",
     "text": [
      "/Library/Frameworks/Python.framework/Versions/3.7/lib/python3.7/site-packages/sklearn/linear_model/stochastic_gradient.py:128: FutureWarning: max_iter and tol parameters have been added in <class 'sklearn.linear_model.stochastic_gradient.SGDRegressor'> in 0.19. If both are left unset, they default to max_iter=5 and tol=None. If tol is not None, max_iter defaults to max_iter=1000. From 0.21, default max_iter will be 1000, and default tol will be 1e-3.\n",
      "  \"and default tol will be 1e-3.\" % type(self), FutureWarning)\n",
      "/Library/Frameworks/Python.framework/Versions/3.7/lib/python3.7/site-packages/sklearn/linear_model/stochastic_gradient.py:128: FutureWarning: max_iter and tol parameters have been added in <class 'sklearn.linear_model.stochastic_gradient.SGDRegressor'> in 0.19. If both are left unset, they default to max_iter=5 and tol=None. If tol is not None, max_iter defaults to max_iter=1000. From 0.21, default max_iter will be 1000, and default tol will be 1e-3.\n",
      "  \"and default tol will be 1e-3.\" % type(self), FutureWarning)\n",
      "/Library/Frameworks/Python.framework/Versions/3.7/lib/python3.7/site-packages/sklearn/linear_model/stochastic_gradient.py:128: FutureWarning: max_iter and tol parameters have been added in <class 'sklearn.linear_model.stochastic_gradient.SGDRegressor'> in 0.19. If both are left unset, they default to max_iter=5 and tol=None. If tol is not None, max_iter defaults to max_iter=1000. From 0.21, default max_iter will be 1000, and default tol will be 1e-3.\n",
      "  \"and default tol will be 1e-3.\" % type(self), FutureWarning)\n",
      "/Library/Frameworks/Python.framework/Versions/3.7/lib/python3.7/site-packages/sklearn/linear_model/stochastic_gradient.py:128: FutureWarning: max_iter and tol parameters have been added in <class 'sklearn.linear_model.stochastic_gradient.SGDRegressor'> in 0.19. If both are left unset, they default to max_iter=5 and tol=None. If tol is not None, max_iter defaults to max_iter=1000. From 0.21, default max_iter will be 1000, and default tol will be 1e-3.\n",
      "  \"and default tol will be 1e-3.\" % type(self), FutureWarning)\n",
      "/Library/Frameworks/Python.framework/Versions/3.7/lib/python3.7/site-packages/sklearn/linear_model/stochastic_gradient.py:128: FutureWarning: max_iter and tol parameters have been added in <class 'sklearn.linear_model.stochastic_gradient.SGDRegressor'> in 0.19. If both are left unset, they default to max_iter=5 and tol=None. If tol is not None, max_iter defaults to max_iter=1000. From 0.21, default max_iter will be 1000, and default tol will be 1e-3.\n",
      "  \"and default tol will be 1e-3.\" % type(self), FutureWarning)\n"
     ]
    }
   ],
   "source": [
    "from sklearn.cross_validation import cross_val_score\n",
    "print(cross_val_score(lr, X_train, y_train, cv=5))\n"
   ]
  },
  {
   "cell_type": "code",
   "execution_count": null,
   "metadata": {},
   "outputs": [],
   "source": []
  }
 ],
 "metadata": {
  "kernelspec": {
   "display_name": "Python 3",
   "language": "python",
   "name": "python3"
  },
  "language_info": {
   "codemirror_mode": {
    "name": "ipython",
    "version": 3
   },
   "file_extension": ".py",
   "mimetype": "text/x-python",
   "name": "python",
   "nbconvert_exporter": "python",
   "pygments_lexer": "ipython3",
   "version": "3.7.0"
  }
 },
 "nbformat": 4,
 "nbformat_minor": 2
}
